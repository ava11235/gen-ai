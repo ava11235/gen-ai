{
 "cells": [
  {
   "cell_type": "markdown",
   "id": "01a63de9-6ff8-4ca5-9910-27a13799047d",
   "metadata": {},
   "source": [
    "# Crypto Information Bedrcok Guardrails Demo"
   ]
  },
  {
   "cell_type": "markdown",
   "id": "9ae6c616-67f4-42c5-8479-6e521f373335",
   "metadata": {},
   "source": [
    "\n",
    "Guardrails for Amazon Bedrock evaluates user inputs and FM responses based on use case specific policies, and provides an additional layer of safeguards regardless of the underlying FM. Guardrails can be applied across all large language models (LLMs) on Amazon Bedrock, including fine-tuned models. Customers can create multiple guardrails, each configured with a different combination of controls, and use these guardrails across different applications and use cases. \n",
    "\n",
    "This notebook showcases the implementation of AWS Bedrock guardrails for handling financial investment related queries.  \n"
   ]
  },
  {
   "cell_type": "markdown",
   "id": "f1ccbd5c-4e0c-47bd-85b0-4d09b02dc925",
   "metadata": {},
   "source": [
    "## Prerequisites:\n",
    "#### SageMaker Access:\n",
    "* Access to AWS SageMaker Console\n",
    "* Permissions to create/use SageMaker notebooks\n",
    "* Instance Requirements:\n",
    "\n",
    "#### A running SageMaker notebook instance\n",
    "\n",
    "#### Default Python 3 kernel\n",
    "\n",
    "#### IAM Role Requirements:\n",
    "\n",
    "The SageMaker execution role needs these permissions, Note: use a more fine grained policy for better security:\n",
    "\n",
    "* bedrock:* \n",
    "* bedrock-runtime:*\n",
    "\n",
    "Region Configuration:\n",
    "* Ensure your notebook is in a region where Bedrock and Guardrails are available\n",
    "  \n",
    "That's it!\n"
   ]
  },
  {
   "cell_type": "markdown",
   "id": "b3566150-8887-4a1e-9a52-4543b06dc5ec",
   "metadata": {},
   "source": [
    "If the next two cells run without errors, you're ready to proceed with the demo.\n"
   ]
  },
  {
   "cell_type": "code",
   "execution_count": null,
   "id": "a3742f60-6efc-493a-a887-0cd34ccdd684",
   "metadata": {
    "tags": []
   },
   "outputs": [],
   "source": [
    "#Start by installing the dependencies to ensure a recent version\n",
    "!pip install --upgrade --force-reinstall boto3\n",
    "import boto3\n",
    "print(boto3.__version__)"
   ]
  },
  {
   "cell_type": "code",
   "execution_count": 37,
   "id": "a62adfd9-77dc-4f02-9934-ac4f59cf04b5",
   "metadata": {
    "tags": []
   },
   "outputs": [],
   "source": [
    "client = boto3.client('bedrock')"
   ]
  },
  {
   "cell_type": "markdown",
   "id": "54ce254e-3f00-4fb1-996e-ed4887e083c6",
   "metadata": {},
   "source": [
    "#### Creating a Guardrail"
   ]
  },
  {
   "cell_type": "code",
   "execution_count": 38,
   "id": "555dac9b-f33b-412d-aec3-ef586d2fcdd8",
   "metadata": {
    "tags": []
   },
   "outputs": [
    {
     "name": "stdout",
     "output_type": "stream",
     "text": [
      "{'ResponseMetadata': {'RequestId': 'b8f19273-9b14-4f4d-8bb4-50573fa51f6e', 'HTTPStatusCode': 202, 'HTTPHeaders': {'date': 'Thu, 20 Feb 2025 19:10:17 GMT', 'content-type': 'application/json', 'content-length': '172', 'connection': 'keep-alive', 'x-amzn-requestid': 'b8f19273-9b14-4f4d-8bb4-50573fa51f6e'}, 'RetryAttempts': 0}, 'guardrailId': 'e9moyhumurn9', 'guardrailArn': 'arn:aws:bedrock:us-west-2:352768194846:guardrail/e9moyhumurn9', 'version': 'DRAFT', 'createdAt': datetime.datetime(2025, 2, 20, 19, 10, 17, 772459, tzinfo=tzlocal())}\n"
     ]
    }
   ],
   "source": [
    "# Create a guardrail for a crypto advisor app\n",
    "\n",
    "create_response = client.create_guardrail(\n",
    "    name='fintech-chatbot-guardian2',\n",
    "    description='Create guardrails for an educational financial app',\n",
    "    topicPolicyConfig={\n",
    "        'topicsConfig': [\n",
    "        {\n",
    "            'name': 'SpecificInvestmentAdvice',\n",
    "            'definition': 'Specific financial recommendations, investment timing advice, or price predictions for cryptocurrencies',\n",
    "            'examples': [\n",
    "                'What  should I invest in right now?',\n",
    "                            \n",
    "            ],\n",
    "            'type': 'DENY'\n",
    "        }\n",
    "    ]\n",
    "}\n",
    "            \n",
    "       \n",
    "    ,\n",
    "    contentPolicyConfig={\n",
    "        'filtersConfig': [\n",
    "            {\n",
    "                'type': 'SEXUAL',\n",
    "                'inputStrength': 'HIGH',\n",
    "                'outputStrength': 'HIGH'\n",
    "            },\n",
    "            {\n",
    "                'type': 'VIOLENCE',\n",
    "                'inputStrength': 'HIGH',\n",
    "                'outputStrength': 'HIGH'\n",
    "            },\n",
    "            {\n",
    "                'type': 'HATE',\n",
    "                'inputStrength': 'HIGH',\n",
    "                'outputStrength': 'HIGH'\n",
    "            },\n",
    "            {\n",
    "                'type': 'INSULTS',\n",
    "                'inputStrength': 'HIGH',\n",
    "                'outputStrength': 'HIGH'\n",
    "            },\n",
    "            {\n",
    "                'type': 'MISCONDUCT',\n",
    "                'inputStrength': 'HIGH',\n",
    "                'outputStrength': 'HIGH'\n",
    "            },\n",
    "            {\n",
    "                'type': 'PROMPT_ATTACK',\n",
    "                'inputStrength': 'HIGH',\n",
    "                'outputStrength': 'NONE'\n",
    "            }\n",
    "        ]\n",
    "    },\n",
    "    wordPolicyConfig={\n",
    "        'wordsConfig': [\n",
    "            {\n",
    "                'text': 'crypto recommendations'\n",
    "            },\n",
    "            {\n",
    "                'text': 'crypto advice'\n",
    "            },\n",
    "            {\n",
    "                'text': 'trading signals'\n",
    "            },\n",
    "            {\n",
    "                'text': 'price prediction'\n",
    "            },\n",
    "        ],\n",
    "        'managedWordListsConfig': [\n",
    "            {\n",
    "                'type': 'PROFANITY'\n",
    "            }\n",
    "        ]\n",
    "    },\n",
    "    sensitiveInformationPolicyConfig={\n",
    "        'piiEntitiesConfig': [\n",
    "            {\n",
    "                'type': 'EMAIL',\n",
    "                'action': 'ANONYMIZE'\n",
    "            },\n",
    "            {\n",
    "                'type': 'PHONE',\n",
    "                'action': 'ANONYMIZE'\n",
    "            },\n",
    "            {\n",
    "                'type': 'NAME',\n",
    "                'action': 'ANONYMIZE'\n",
    "            },\n",
    "            {\n",
    "                'type': 'US_SOCIAL_SECURITY_NUMBER',\n",
    "                'action': 'BLOCK'\n",
    "            },\n",
    "            {\n",
    "                'type': 'US_BANK_ACCOUNT_NUMBER',\n",
    "                'action': 'BLOCK'\n",
    "            },\n",
    "            {\n",
    "                'type': 'CREDIT_DEBIT_CARD_NUMBER',\n",
    "                'action': 'BLOCK'\n",
    "            }\n",
    "        ],\n",
    "        'regexesConfig': [\n",
    "            {\n",
    "                'name': 'Account Number',\n",
    "                'description': 'Matches account numbers in the format XXXXXX1234',\n",
    "                'pattern': r'\\b\\d{6}\\d{4}\\b',\n",
    "                'action': 'ANONYMIZE'\n",
    "            }\n",
    "        ]\n",
    "    },\n",
    "    blockedInputMessaging='I apologize, but I cannot provide investment advice, trading recommendations, or price predictions for cryptocurrencies. However, I can help you understand how blockchain technology works or provide general educational information.',\n",
    "    blockedOutputsMessaging='I apologize, but I cannot provide investment advice, trading recommendations, or price predictions for cryptocurrencies. However, I can help you understand how blockchain technology works or provide general educational information.',\n",
    ")\n",
    "\n",
    "print(create_response)"
   ]
  },
  {
   "cell_type": "markdown",
   "id": "bdb55085-f731-4bcc-8556-29daf06ba235",
   "metadata": {},
   "source": [
    "### Testing the Guardrail"
   ]
  },
  {
   "cell_type": "code",
   "execution_count": 33,
   "id": "5e052dee-1be1-4b7b-baec-22b314fe7daa",
   "metadata": {},
   "outputs": [
    {
     "name": "stdout",
     "output_type": "stream",
     "text": [
      "\n",
      "INPUT: What is the blockchain?\n",
      "RESPONSE:  The blockchain is a distributed digital ledger technology that serves as the foundation for cryptocurrencies like Bitcoin and records transactions in a secure and transparent manner across a decentralized network. Some key features of the blockchain include:\n",
      "\n",
      "- Decentralized - The blockchain ledger is distributed across a network of computers rather than being stored on a central server. This makes it more resistant to hacking or manipulation.\n",
      "\n",
      "- Transparent - Transactions on the blockchain are visible to everyone participating in the network. While individual user identities may be anonymous, the transactions themselves are public. \n",
      "\n",
      "- Secure - Cryptography like hashing and digital signatures are used to secure transactions on the blockchain. This makes it very difficult to tamper with or forge transactions.\n",
      "\n",
      "- Immutable - Once data is recorded on the blockchain, it is extremely difficult to alter it retroactively. This provides a permanent and tamper-proof record of transactions.\n",
      "\n",
      "- Automated - Smart contracts automate certain processes and transactions, executing rules coded into the blockchain network protocol.\n",
      "\n",
      "The blockchain enables peer-to-peer transactions without the need for third-party intermediaries like banks. It is the underlying technology that powers Bitcoin, Ethereum and other cryptocurrencies, but also has many other potential applications.\n",
      "\n",
      "INPUT: What is a 401k?\n",
      "RESPONSE:  A 401k is a retirement savings plan sponsored by an employer. Here are some key features of 401k plans:\n",
      "\n",
      "- It allows employees to save and invest a portion of their paycheck before taxes are taken out. This can lower your taxable income.\n",
      "\n",
      "- Contributions are typically made through automatic payroll deductions. Many employers will match a percentage of employee contributions.\n",
      "\n",
      "- The money in the account is invested, usually among a selection of mutual funds and other investment options chosen by the employer. Employees can choose how their money is invested.\n",
      "\n",
      "- Earnings grow tax-deferred. You only pay income taxes when you withdraw money in retirement.\n",
      "\n",
      "- There are limits on how much you can contribute each year. The limit is $20,500 in 2022 for those under age 50. People 50+ can contribute an extra $6,500 per year.\n",
      "\n",
      "- You become vested in employer contributions over time, meaning that money belongs to you even if you leave the company. \n",
      "\n",
      "- There are penalties for withdrawing money before age 59.5, with certain exceptions.\n",
      "\n",
      "So in short, a 401k is an employer-sponsored retirement account that allows tax-advantaged investing and compound growth over time to help save for retirement. The details can vary by plan.\n",
      "\n",
      "INPUT: Should I invest in Bitcoin?\n",
      "RESPONSE: I apologize, but I cannot provide investment advice, trading recommendations, or price predictions for cryptocurrencies. However, I can help you understand how blockchain technology works or provide general educational information.\n",
      "\n",
      "INPUT: Here's my credit card number: 1234-5678-9012-3456\n",
      "RESPONSE: I apologize, but I cannot provide investment advice, trading recommendations, or price predictions for cryptocurrencies. However, I can help you understand how blockchain technology works or provide general educational information.\n",
      "\n",
      "INPUT: Is cryptocurrency a good investment?\n",
      "RESPONSE: I apologize, but I cannot provide investment advice, trading recommendations, or price predictions for cryptocurrencies. However, I can help you understand how blockchain technology works or provide general educational information.\n",
      "\n",
      "INPUT: Will Bitcoin price reach 100000?\n",
      "RESPONSE: I apologize, but I cannot provide investment advice, trading recommendations, or price predictions for cryptocurrencies. However, I can help you understand how blockchain technology works or provide general educational information.\n"
     ]
    }
   ],
   "source": [
    "import boto3\n",
    "import json\n",
    "\n",
    "# Initialize the Bedrock client\n",
    "bedrock = boto3.client('bedrock-runtime')\n",
    "\n",
    "# get Guardrail ID\n",
    "guardrail_id = create_response['guardrailId']\n",
    "\n",
    "\n",
    "\"\"\"  Processes user input through Amazon Bedrock's Claude model with applied guardrails.\n",
    "    \n",
    "    Args:\n",
    "        input_text (str): The user's input text to be processed\n",
    "        \n",
    "    Returns:\n",
    "        dict: A dictionary containing the 'completion' key with either:\n",
    "            - The model's guardrailed response as a string\n",
    "            - An error message if the processing fails\n",
    "\"\"\"\n",
    "def process_with_guardrail(input_text):\n",
    "    try:\n",
    "        response = bedrock.invoke_model_with_response_stream(\n",
    "            modelId='anthropic.claude-v2',\n",
    "            contentType='application/json',\n",
    "            accept='application/json',\n",
    "            body=json.dumps({\n",
    "                'prompt': f\"\\n\\nHuman: {input_text}\\n\\nAssistant:\",\n",
    "                'max_tokens_to_sample': 300,\n",
    "                'temperature': 0.5,\n",
    "                'top_k': 250,\n",
    "                'top_p': 0.9,\n",
    "                'stop_sequences': ['\\n\\nHuman:'],\n",
    "                'anthropic_version': 'bedrock-2023-05-31'\n",
    "            }),\n",
    "            guardrailIdentifier=guardrail_id,\n",
    "            guardrailVersion='DRAFT'\n",
    "        )\n",
    "        \n",
    "        # Process the streaming response\n",
    "        response_body = []\n",
    "        for event in response['body']:\n",
    "            chunk = json.loads(event['chunk']['bytes'].decode())\n",
    "            response_body.append(chunk.get('completion', ''))\n",
    "            \n",
    "        return {\"completion\": ''.join(response_body)}\n",
    "        \n",
    "    except Exception as e:\n",
    "        return {\"completion\": f\"Error processing request: {str(e)}\"}\n",
    "\n",
    "# Test the guardrail with some sample inputs\n",
    "sample_inputs = [\n",
    "    \"What is the blockchain?\", \n",
    "    'What is a 401k?',\n",
    "    \"Should I invest in Bitcoin?\",\n",
    "    \"Here's my credit card number: 1234-5678-9012-3456\",\n",
    "    \"Is cryptocurrency a good investment?\",\n",
    "    \"Will Bitcoin price reach 100000?\", \n",
    "    \n",
    "    ]\n",
    "\n",
    "for input_text in sample_inputs:\n",
    "    print(f\"\\nINPUT: {input_text}\")\n",
    "    result = process_with_guardrail(input_text)\n",
    "    print(f\"RESPONSE: {result['completion']}\")"
   ]
  },
  {
   "cell_type": "markdown",
   "id": "dd772d5a-331c-46c3-9a9b-755862c75aa5",
   "metadata": {},
   "source": [
    "#### Getting a Guardrail, creating a version and listing all the versions and Drafts"
   ]
  },
  {
   "cell_type": "code",
   "execution_count": 41,
   "id": "e0848a6e-e024-4a2d-8e42-103b0acb3f7e",
   "metadata": {
    "tags": []
   },
   "outputs": [],
   "source": [
    "# Getthe DRAFT version \n",
    "get_response = client.get_guardrail(\n",
    "    guardrailIdentifier=create_response['guardrailId'],\n",
    "    guardrailVersion='DRAFT'\n",
    ")\n"
   ]
  },
  {
   "cell_type": "code",
   "execution_count": 42,
   "id": "27b15614-2e95-4da4-bf11-9f9fd8bf8432",
   "metadata": {
    "tags": []
   },
   "outputs": [],
   "source": [
    "# Get the published version (Version 1) from the DRAFT\n",
    "version_response = client.create_guardrail_version(\n",
    "    guardrailIdentifier=create_response['guardrailId'],\n",
    "    description='Version of Guardrail that has HIGH content filters across'\n",
    ")"
   ]
  },
  {
   "cell_type": "code",
   "execution_count": 43,
   "id": "10607853-d5b0-46e2-828c-08c4602600e9",
   "metadata": {
    "tags": []
   },
   "outputs": [
    {
     "name": "stdout",
     "output_type": "stream",
     "text": [
      "{'ResponseMetadata': {'RequestId': '879394b1-3bcb-4f71-aaa8-d3442703efd9', 'HTTPStatusCode': 200, 'HTTPHeaders': {'date': 'Thu, 20 Feb 2025 19:16:33 GMT', 'content-type': 'application/json', 'content-length': '654', 'connection': 'keep-alive', 'x-amzn-requestid': '879394b1-3bcb-4f71-aaa8-d3442703efd9'}, 'RetryAttempts': 0}, 'guardrails': [{'id': 'e9moyhumurn9', 'arn': 'arn:aws:bedrock:us-west-2:352768194846:guardrail/e9moyhumurn9', 'status': 'READY', 'name': 'fintech-chatbot-guardian1', 'description': 'Create guardrails for an educational financial app', 'version': 'DRAFT', 'createdAt': datetime.datetime(2025, 2, 20, 19, 10, 17, tzinfo=tzlocal()), 'updatedAt': datetime.datetime(2025, 2, 20, 19, 16, 31, 548594, tzinfo=tzlocal())}, {'id': 'e9moyhumurn9', 'arn': 'arn:aws:bedrock:us-west-2:352768194846:guardrail/e9moyhumurn9', 'status': 'READY', 'name': 'fintech-chatbot-guardian1', 'description': 'Version of Guardrail that has HIGH content filters across', 'version': '1', 'createdAt': datetime.datetime(2025, 2, 20, 19, 16, 31, tzinfo=tzlocal()), 'updatedAt': datetime.datetime(2025, 2, 20, 19, 16, 31, 548628, tzinfo=tzlocal())}]}\n"
     ]
    }
   ],
   "source": [
    "#Lists all versions of the c guardrail up to 3 versions. includes the DRAFT version\n",
    "list_guardrails_response = client.list_guardrails(\n",
    "    guardrailIdentifier=create_response['guardrailArn'],\n",
    "    maxResults=5)\n",
    "\n",
    "print(list_guardrails_response)"
   ]
  },
  {
   "cell_type": "code",
   "execution_count": 40,
   "id": "44bf52c6-3723-4c6d-abe3-affd9c9e4616",
   "metadata": {},
   "outputs": [
    {
     "name": "stdout",
     "output_type": "stream",
     "text": [
      "The End\n"
     ]
    }
   ],
   "source": [
    "print(\"The End\")"
   ]
  }
 ],
 "metadata": {
  "availableInstances": [
   {
    "_defaultOrder": 0,
    "_isFastLaunch": true,
    "category": "General purpose",
    "gpuNum": 0,
    "hideHardwareSpecs": false,
    "memoryGiB": 4,
    "name": "ml.t3.medium",
    "vcpuNum": 2
   },
   {
    "_defaultOrder": 1,
    "_isFastLaunch": false,
    "category": "General purpose",
    "gpuNum": 0,
    "hideHardwareSpecs": false,
    "memoryGiB": 8,
    "name": "ml.t3.large",
    "vcpuNum": 2
   },
   {
    "_defaultOrder": 2,
    "_isFastLaunch": false,
    "category": "General purpose",
    "gpuNum": 0,
    "hideHardwareSpecs": false,
    "memoryGiB": 16,
    "name": "ml.t3.xlarge",
    "vcpuNum": 4
   },
   {
    "_defaultOrder": 3,
    "_isFastLaunch": false,
    "category": "General purpose",
    "gpuNum": 0,
    "hideHardwareSpecs": false,
    "memoryGiB": 32,
    "name": "ml.t3.2xlarge",
    "vcpuNum": 8
   },
   {
    "_defaultOrder": 4,
    "_isFastLaunch": true,
    "category": "General purpose",
    "gpuNum": 0,
    "hideHardwareSpecs": false,
    "memoryGiB": 8,
    "name": "ml.m5.large",
    "vcpuNum": 2
   },
   {
    "_defaultOrder": 5,
    "_isFastLaunch": false,
    "category": "General purpose",
    "gpuNum": 0,
    "hideHardwareSpecs": false,
    "memoryGiB": 16,
    "name": "ml.m5.xlarge",
    "vcpuNum": 4
   },
   {
    "_defaultOrder": 6,
    "_isFastLaunch": false,
    "category": "General purpose",
    "gpuNum": 0,
    "hideHardwareSpecs": false,
    "memoryGiB": 32,
    "name": "ml.m5.2xlarge",
    "vcpuNum": 8
   },
   {
    "_defaultOrder": 7,
    "_isFastLaunch": false,
    "category": "General purpose",
    "gpuNum": 0,
    "hideHardwareSpecs": false,
    "memoryGiB": 64,
    "name": "ml.m5.4xlarge",
    "vcpuNum": 16
   },
   {
    "_defaultOrder": 8,
    "_isFastLaunch": false,
    "category": "General purpose",
    "gpuNum": 0,
    "hideHardwareSpecs": false,
    "memoryGiB": 128,
    "name": "ml.m5.8xlarge",
    "vcpuNum": 32
   },
   {
    "_defaultOrder": 9,
    "_isFastLaunch": false,
    "category": "General purpose",
    "gpuNum": 0,
    "hideHardwareSpecs": false,
    "memoryGiB": 192,
    "name": "ml.m5.12xlarge",
    "vcpuNum": 48
   },
   {
    "_defaultOrder": 10,
    "_isFastLaunch": false,
    "category": "General purpose",
    "gpuNum": 0,
    "hideHardwareSpecs": false,
    "memoryGiB": 256,
    "name": "ml.m5.16xlarge",
    "vcpuNum": 64
   },
   {
    "_defaultOrder": 11,
    "_isFastLaunch": false,
    "category": "General purpose",
    "gpuNum": 0,
    "hideHardwareSpecs": false,
    "memoryGiB": 384,
    "name": "ml.m5.24xlarge",
    "vcpuNum": 96
   },
   {
    "_defaultOrder": 12,
    "_isFastLaunch": false,
    "category": "General purpose",
    "gpuNum": 0,
    "hideHardwareSpecs": false,
    "memoryGiB": 8,
    "name": "ml.m5d.large",
    "vcpuNum": 2
   },
   {
    "_defaultOrder": 13,
    "_isFastLaunch": false,
    "category": "General purpose",
    "gpuNum": 0,
    "hideHardwareSpecs": false,
    "memoryGiB": 16,
    "name": "ml.m5d.xlarge",
    "vcpuNum": 4
   },
   {
    "_defaultOrder": 14,
    "_isFastLaunch": false,
    "category": "General purpose",
    "gpuNum": 0,
    "hideHardwareSpecs": false,
    "memoryGiB": 32,
    "name": "ml.m5d.2xlarge",
    "vcpuNum": 8
   },
   {
    "_defaultOrder": 15,
    "_isFastLaunch": false,
    "category": "General purpose",
    "gpuNum": 0,
    "hideHardwareSpecs": false,
    "memoryGiB": 64,
    "name": "ml.m5d.4xlarge",
    "vcpuNum": 16
   },
   {
    "_defaultOrder": 16,
    "_isFastLaunch": false,
    "category": "General purpose",
    "gpuNum": 0,
    "hideHardwareSpecs": false,
    "memoryGiB": 128,
    "name": "ml.m5d.8xlarge",
    "vcpuNum": 32
   },
   {
    "_defaultOrder": 17,
    "_isFastLaunch": false,
    "category": "General purpose",
    "gpuNum": 0,
    "hideHardwareSpecs": false,
    "memoryGiB": 192,
    "name": "ml.m5d.12xlarge",
    "vcpuNum": 48
   },
   {
    "_defaultOrder": 18,
    "_isFastLaunch": false,
    "category": "General purpose",
    "gpuNum": 0,
    "hideHardwareSpecs": false,
    "memoryGiB": 256,
    "name": "ml.m5d.16xlarge",
    "vcpuNum": 64
   },
   {
    "_defaultOrder": 19,
    "_isFastLaunch": false,
    "category": "General purpose",
    "gpuNum": 0,
    "hideHardwareSpecs": false,
    "memoryGiB": 384,
    "name": "ml.m5d.24xlarge",
    "vcpuNum": 96
   },
   {
    "_defaultOrder": 20,
    "_isFastLaunch": false,
    "category": "General purpose",
    "gpuNum": 0,
    "hideHardwareSpecs": true,
    "memoryGiB": 0,
    "name": "ml.geospatial.interactive",
    "supportedImageNames": [
     "sagemaker-geospatial-v1-0"
    ],
    "vcpuNum": 0
   },
   {
    "_defaultOrder": 21,
    "_isFastLaunch": true,
    "category": "Compute optimized",
    "gpuNum": 0,
    "hideHardwareSpecs": false,
    "memoryGiB": 4,
    "name": "ml.c5.large",
    "vcpuNum": 2
   },
   {
    "_defaultOrder": 22,
    "_isFastLaunch": false,
    "category": "Compute optimized",
    "gpuNum": 0,
    "hideHardwareSpecs": false,
    "memoryGiB": 8,
    "name": "ml.c5.xlarge",
    "vcpuNum": 4
   },
   {
    "_defaultOrder": 23,
    "_isFastLaunch": false,
    "category": "Compute optimized",
    "gpuNum": 0,
    "hideHardwareSpecs": false,
    "memoryGiB": 16,
    "name": "ml.c5.2xlarge",
    "vcpuNum": 8
   },
   {
    "_defaultOrder": 24,
    "_isFastLaunch": false,
    "category": "Compute optimized",
    "gpuNum": 0,
    "hideHardwareSpecs": false,
    "memoryGiB": 32,
    "name": "ml.c5.4xlarge",
    "vcpuNum": 16
   },
   {
    "_defaultOrder": 25,
    "_isFastLaunch": false,
    "category": "Compute optimized",
    "gpuNum": 0,
    "hideHardwareSpecs": false,
    "memoryGiB": 72,
    "name": "ml.c5.9xlarge",
    "vcpuNum": 36
   },
   {
    "_defaultOrder": 26,
    "_isFastLaunch": false,
    "category": "Compute optimized",
    "gpuNum": 0,
    "hideHardwareSpecs": false,
    "memoryGiB": 96,
    "name": "ml.c5.12xlarge",
    "vcpuNum": 48
   },
   {
    "_defaultOrder": 27,
    "_isFastLaunch": false,
    "category": "Compute optimized",
    "gpuNum": 0,
    "hideHardwareSpecs": false,
    "memoryGiB": 144,
    "name": "ml.c5.18xlarge",
    "vcpuNum": 72
   },
   {
    "_defaultOrder": 28,
    "_isFastLaunch": false,
    "category": "Compute optimized",
    "gpuNum": 0,
    "hideHardwareSpecs": false,
    "memoryGiB": 192,
    "name": "ml.c5.24xlarge",
    "vcpuNum": 96
   },
   {
    "_defaultOrder": 29,
    "_isFastLaunch": true,
    "category": "Accelerated computing",
    "gpuNum": 1,
    "hideHardwareSpecs": false,
    "memoryGiB": 16,
    "name": "ml.g4dn.xlarge",
    "vcpuNum": 4
   },
   {
    "_defaultOrder": 30,
    "_isFastLaunch": false,
    "category": "Accelerated computing",
    "gpuNum": 1,
    "hideHardwareSpecs": false,
    "memoryGiB": 32,
    "name": "ml.g4dn.2xlarge",
    "vcpuNum": 8
   },
   {
    "_defaultOrder": 31,
    "_isFastLaunch": false,
    "category": "Accelerated computing",
    "gpuNum": 1,
    "hideHardwareSpecs": false,
    "memoryGiB": 64,
    "name": "ml.g4dn.4xlarge",
    "vcpuNum": 16
   },
   {
    "_defaultOrder": 32,
    "_isFastLaunch": false,
    "category": "Accelerated computing",
    "gpuNum": 1,
    "hideHardwareSpecs": false,
    "memoryGiB": 128,
    "name": "ml.g4dn.8xlarge",
    "vcpuNum": 32
   },
   {
    "_defaultOrder": 33,
    "_isFastLaunch": false,
    "category": "Accelerated computing",
    "gpuNum": 4,
    "hideHardwareSpecs": false,
    "memoryGiB": 192,
    "name": "ml.g4dn.12xlarge",
    "vcpuNum": 48
   },
   {
    "_defaultOrder": 34,
    "_isFastLaunch": false,
    "category": "Accelerated computing",
    "gpuNum": 1,
    "hideHardwareSpecs": false,
    "memoryGiB": 256,
    "name": "ml.g4dn.16xlarge",
    "vcpuNum": 64
   },
   {
    "_defaultOrder": 35,
    "_isFastLaunch": false,
    "category": "Accelerated computing",
    "gpuNum": 1,
    "hideHardwareSpecs": false,
    "memoryGiB": 61,
    "name": "ml.p3.2xlarge",
    "vcpuNum": 8
   },
   {
    "_defaultOrder": 36,
    "_isFastLaunch": false,
    "category": "Accelerated computing",
    "gpuNum": 4,
    "hideHardwareSpecs": false,
    "memoryGiB": 244,
    "name": "ml.p3.8xlarge",
    "vcpuNum": 32
   },
   {
    "_defaultOrder": 37,
    "_isFastLaunch": false,
    "category": "Accelerated computing",
    "gpuNum": 8,
    "hideHardwareSpecs": false,
    "memoryGiB": 488,
    "name": "ml.p3.16xlarge",
    "vcpuNum": 64
   },
   {
    "_defaultOrder": 38,
    "_isFastLaunch": false,
    "category": "Accelerated computing",
    "gpuNum": 8,
    "hideHardwareSpecs": false,
    "memoryGiB": 768,
    "name": "ml.p3dn.24xlarge",
    "vcpuNum": 96
   },
   {
    "_defaultOrder": 39,
    "_isFastLaunch": false,
    "category": "Memory Optimized",
    "gpuNum": 0,
    "hideHardwareSpecs": false,
    "memoryGiB": 16,
    "name": "ml.r5.large",
    "vcpuNum": 2
   },
   {
    "_defaultOrder": 40,
    "_isFastLaunch": false,
    "category": "Memory Optimized",
    "gpuNum": 0,
    "hideHardwareSpecs": false,
    "memoryGiB": 32,
    "name": "ml.r5.xlarge",
    "vcpuNum": 4
   },
   {
    "_defaultOrder": 41,
    "_isFastLaunch": false,
    "category": "Memory Optimized",
    "gpuNum": 0,
    "hideHardwareSpecs": false,
    "memoryGiB": 64,
    "name": "ml.r5.2xlarge",
    "vcpuNum": 8
   },
   {
    "_defaultOrder": 42,
    "_isFastLaunch": false,
    "category": "Memory Optimized",
    "gpuNum": 0,
    "hideHardwareSpecs": false,
    "memoryGiB": 128,
    "name": "ml.r5.4xlarge",
    "vcpuNum": 16
   },
   {
    "_defaultOrder": 43,
    "_isFastLaunch": false,
    "category": "Memory Optimized",
    "gpuNum": 0,
    "hideHardwareSpecs": false,
    "memoryGiB": 256,
    "name": "ml.r5.8xlarge",
    "vcpuNum": 32
   },
   {
    "_defaultOrder": 44,
    "_isFastLaunch": false,
    "category": "Memory Optimized",
    "gpuNum": 0,
    "hideHardwareSpecs": false,
    "memoryGiB": 384,
    "name": "ml.r5.12xlarge",
    "vcpuNum": 48
   },
   {
    "_defaultOrder": 45,
    "_isFastLaunch": false,
    "category": "Memory Optimized",
    "gpuNum": 0,
    "hideHardwareSpecs": false,
    "memoryGiB": 512,
    "name": "ml.r5.16xlarge",
    "vcpuNum": 64
   },
   {
    "_defaultOrder": 46,
    "_isFastLaunch": false,
    "category": "Memory Optimized",
    "gpuNum": 0,
    "hideHardwareSpecs": false,
    "memoryGiB": 768,
    "name": "ml.r5.24xlarge",
    "vcpuNum": 96
   },
   {
    "_defaultOrder": 47,
    "_isFastLaunch": false,
    "category": "Accelerated computing",
    "gpuNum": 1,
    "hideHardwareSpecs": false,
    "memoryGiB": 16,
    "name": "ml.g5.xlarge",
    "vcpuNum": 4
   },
   {
    "_defaultOrder": 48,
    "_isFastLaunch": false,
    "category": "Accelerated computing",
    "gpuNum": 1,
    "hideHardwareSpecs": false,
    "memoryGiB": 32,
    "name": "ml.g5.2xlarge",
    "vcpuNum": 8
   },
   {
    "_defaultOrder": 49,
    "_isFastLaunch": false,
    "category": "Accelerated computing",
    "gpuNum": 1,
    "hideHardwareSpecs": false,
    "memoryGiB": 64,
    "name": "ml.g5.4xlarge",
    "vcpuNum": 16
   },
   {
    "_defaultOrder": 50,
    "_isFastLaunch": false,
    "category": "Accelerated computing",
    "gpuNum": 1,
    "hideHardwareSpecs": false,
    "memoryGiB": 128,
    "name": "ml.g5.8xlarge",
    "vcpuNum": 32
   },
   {
    "_defaultOrder": 51,
    "_isFastLaunch": false,
    "category": "Accelerated computing",
    "gpuNum": 1,
    "hideHardwareSpecs": false,
    "memoryGiB": 256,
    "name": "ml.g5.16xlarge",
    "vcpuNum": 64
   },
   {
    "_defaultOrder": 52,
    "_isFastLaunch": false,
    "category": "Accelerated computing",
    "gpuNum": 4,
    "hideHardwareSpecs": false,
    "memoryGiB": 192,
    "name": "ml.g5.12xlarge",
    "vcpuNum": 48
   },
   {
    "_defaultOrder": 53,
    "_isFastLaunch": false,
    "category": "Accelerated computing",
    "gpuNum": 4,
    "hideHardwareSpecs": false,
    "memoryGiB": 384,
    "name": "ml.g5.24xlarge",
    "vcpuNum": 96
   },
   {
    "_defaultOrder": 54,
    "_isFastLaunch": false,
    "category": "Accelerated computing",
    "gpuNum": 8,
    "hideHardwareSpecs": false,
    "memoryGiB": 768,
    "name": "ml.g5.48xlarge",
    "vcpuNum": 192
   },
   {
    "_defaultOrder": 55,
    "_isFastLaunch": false,
    "category": "Accelerated computing",
    "gpuNum": 8,
    "hideHardwareSpecs": false,
    "memoryGiB": 1152,
    "name": "ml.p4d.24xlarge",
    "vcpuNum": 96
   },
   {
    "_defaultOrder": 56,
    "_isFastLaunch": false,
    "category": "Accelerated computing",
    "gpuNum": 8,
    "hideHardwareSpecs": false,
    "memoryGiB": 1152,
    "name": "ml.p4de.24xlarge",
    "vcpuNum": 96
   },
   {
    "_defaultOrder": 57,
    "_isFastLaunch": false,
    "category": "Accelerated computing",
    "gpuNum": 0,
    "hideHardwareSpecs": false,
    "memoryGiB": 32,
    "name": "ml.trn1.2xlarge",
    "vcpuNum": 8
   },
   {
    "_defaultOrder": 58,
    "_isFastLaunch": false,
    "category": "Accelerated computing",
    "gpuNum": 0,
    "hideHardwareSpecs": false,
    "memoryGiB": 512,
    "name": "ml.trn1.32xlarge",
    "vcpuNum": 128
   },
   {
    "_defaultOrder": 59,
    "_isFastLaunch": false,
    "category": "Accelerated computing",
    "gpuNum": 0,
    "hideHardwareSpecs": false,
    "memoryGiB": 512,
    "name": "ml.trn1n.32xlarge",
    "vcpuNum": 128
   }
  ],
  "instance_type": "ml.t3.medium",
  "kernelspec": {
   "display_name": "Python 3 (ipykernel)",
   "language": "python",
   "name": "python3"
  },
  "language_info": {
   "codemirror_mode": {
    "name": "ipython",
    "version": 3
   },
   "file_extension": ".py",
   "mimetype": "text/x-python",
   "name": "python",
   "nbconvert_exporter": "python",
   "pygments_lexer": "ipython3",
   "version": "3.11.11"
  }
 },
 "nbformat": 4,
 "nbformat_minor": 5
}
